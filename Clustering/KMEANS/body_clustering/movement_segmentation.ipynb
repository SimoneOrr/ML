{
 "cells": [
  {
   "cell_type": "markdown",
   "metadata": {},
   "source": [
    "The following notebook's purpose is to demonstrate how KMeans works and how it can be used for different type of segmentation. \n",
    "We're going to use the dataset offered by [UCI Machine Learning Repository](https://archive.ics.uci.edu/ml/datasets/Daily+and+Sports+Activities). First we'll expore the dataset and its structure using basic ExploratoryDataAnalysis libraries and then we'll preprocess the data for the machine learning process."
   ]
  },
  {
   "cell_type": "code",
   "execution_count": 1,
   "metadata": {},
   "outputs": [],
   "source": [
    "import pandas as pd \n",
    "import numpy as np \n",
    "import matplotlib.pyplot as plt \n",
    "import seaborn as sns \n",
    "sns.set()\n",
    "import os\n",
    "path=\"C:\\\\Users\\\\Orr\\\\Documents\\\\DataScience_2020\\\\Neoland\\\\GITHUB_projects\\\\class\\\\2.Clustering\\\\KMEANS\\\\data\"\n",
    "from tqdm import tqdm\n",
    "#run after a first check\n",
    "import warnings\n",
    "warnings.filterwarnings(\"ignore\")"
   ]
  },
  {
   "cell_type": "markdown",
   "metadata": {},
   "source": [
    "Folder structure:\n",
    "\n",
    "* Folders a01, a02, ..., a19 contain data recorded from the 19 activities. (a01 = activity1)\n",
    "* For each activity, the subfolders p1, p2, ..., p8 contain data from each of the 8 subjects (p1=person1).\n",
    "* In each subfolder, there are 60 text files s01, s02, ..., s60, one for each segment.(s01=segment1)\n",
    "\n",
    "\n",
    "File structure:\n",
    "\n",
    "* 19 activities (a) (in the order given above);\n",
    "* 8 subjects (p);\n",
    "* 60 segments (s);\n",
    "* 5 units on torso (T), right arm (RA), left arm (LA), right leg (RL), left leg (LL);\n",
    "* 9 sensors on each unit (x,y,z accelerometers, x,y,z gyroscopes, x,y,z magnetometers).\n",
    "\n",
    "\n",
    "<INS>Sensor units are calibrated to acquire data at 25 Hz sampling frequency. The 5-min signals are divided into 5-sec segments so that 480(=60x8) signal segments are obtained for each activity<INS>."
   ]
  },
  {
   "cell_type": "code",
   "execution_count": 2,
   "metadata": {},
   "outputs": [
    {
     "data": {
      "text/html": [
       "<div>\n",
       "<style scoped>\n",
       "    .dataframe tbody tr th:only-of-type {\n",
       "        vertical-align: middle;\n",
       "    }\n",
       "\n",
       "    .dataframe tbody tr th {\n",
       "        vertical-align: top;\n",
       "    }\n",
       "\n",
       "    .dataframe thead th {\n",
       "        text-align: right;\n",
       "    }\n",
       "</style>\n",
       "<table border=\"1\" class=\"dataframe\">\n",
       "  <thead>\n",
       "    <tr style=\"text-align: right;\">\n",
       "      <th></th>\n",
       "      <th>0</th>\n",
       "      <th>1</th>\n",
       "      <th>2</th>\n",
       "      <th>3</th>\n",
       "      <th>4</th>\n",
       "      <th>5</th>\n",
       "      <th>6</th>\n",
       "      <th>7</th>\n",
       "      <th>8</th>\n",
       "      <th>9</th>\n",
       "      <th>...</th>\n",
       "      <th>35</th>\n",
       "      <th>36</th>\n",
       "      <th>37</th>\n",
       "      <th>38</th>\n",
       "      <th>39</th>\n",
       "      <th>40</th>\n",
       "      <th>41</th>\n",
       "      <th>42</th>\n",
       "      <th>43</th>\n",
       "      <th>44</th>\n",
       "    </tr>\n",
       "  </thead>\n",
       "  <tbody>\n",
       "    <tr>\n",
       "      <th>0</th>\n",
       "      <td>8.1305</td>\n",
       "      <td>1.0349</td>\n",
       "      <td>5.4217</td>\n",
       "      <td>-0.009461</td>\n",
       "      <td>0.001915</td>\n",
       "      <td>-0.003424</td>\n",
       "      <td>-0.78712</td>\n",
       "      <td>-0.069654</td>\n",
       "      <td>0.15730</td>\n",
       "      <td>0.70097</td>\n",
       "      <td>...</td>\n",
       "      <td>-0.036453</td>\n",
       "      <td>-2.8071</td>\n",
       "      <td>-9.0812</td>\n",
       "      <td>2.6220</td>\n",
       "      <td>-0.000232</td>\n",
       "      <td>-0.012092</td>\n",
       "      <td>-0.004457</td>\n",
       "      <td>0.74017</td>\n",
       "      <td>0.30053</td>\n",
       "      <td>-0.057730</td>\n",
       "    </tr>\n",
       "    <tr>\n",
       "      <th>1</th>\n",
       "      <td>8.1305</td>\n",
       "      <td>1.0202</td>\n",
       "      <td>5.3843</td>\n",
       "      <td>-0.009368</td>\n",
       "      <td>0.023485</td>\n",
       "      <td>0.001953</td>\n",
       "      <td>-0.78717</td>\n",
       "      <td>-0.068275</td>\n",
       "      <td>0.15890</td>\n",
       "      <td>0.71829</td>\n",
       "      <td>...</td>\n",
       "      <td>-0.034005</td>\n",
       "      <td>-2.8146</td>\n",
       "      <td>-9.0737</td>\n",
       "      <td>2.6218</td>\n",
       "      <td>-0.014784</td>\n",
       "      <td>-0.016477</td>\n",
       "      <td>0.002789</td>\n",
       "      <td>0.73937</td>\n",
       "      <td>0.30183</td>\n",
       "      <td>-0.057514</td>\n",
       "    </tr>\n",
       "    <tr>\n",
       "      <th>2</th>\n",
       "      <td>8.1604</td>\n",
       "      <td>1.0201</td>\n",
       "      <td>5.3622</td>\n",
       "      <td>0.015046</td>\n",
       "      <td>0.014330</td>\n",
       "      <td>0.000204</td>\n",
       "      <td>-0.78664</td>\n",
       "      <td>-0.068277</td>\n",
       "      <td>0.15879</td>\n",
       "      <td>0.69849</td>\n",
       "      <td>...</td>\n",
       "      <td>-0.036489</td>\n",
       "      <td>-2.8221</td>\n",
       "      <td>-9.0886</td>\n",
       "      <td>2.6366</td>\n",
       "      <td>-0.012770</td>\n",
       "      <td>0.005717</td>\n",
       "      <td>-0.007918</td>\n",
       "      <td>0.73955</td>\n",
       "      <td>0.30052</td>\n",
       "      <td>-0.057219</td>\n",
       "    </tr>\n",
       "    <tr>\n",
       "      <th>3</th>\n",
       "      <td>8.1603</td>\n",
       "      <td>1.0052</td>\n",
       "      <td>5.3770</td>\n",
       "      <td>0.006892</td>\n",
       "      <td>0.018045</td>\n",
       "      <td>0.005649</td>\n",
       "      <td>-0.78529</td>\n",
       "      <td>-0.069849</td>\n",
       "      <td>0.15912</td>\n",
       "      <td>0.72799</td>\n",
       "      <td>...</td>\n",
       "      <td>-0.036151</td>\n",
       "      <td>-2.8071</td>\n",
       "      <td>-9.0811</td>\n",
       "      <td>2.6070</td>\n",
       "      <td>-0.005725</td>\n",
       "      <td>0.009620</td>\n",
       "      <td>0.006555</td>\n",
       "      <td>0.74029</td>\n",
       "      <td>0.30184</td>\n",
       "      <td>-0.057750</td>\n",
       "    </tr>\n",
       "    <tr>\n",
       "      <th>4</th>\n",
       "      <td>8.1605</td>\n",
       "      <td>1.0275</td>\n",
       "      <td>5.3473</td>\n",
       "      <td>0.008811</td>\n",
       "      <td>0.030433</td>\n",
       "      <td>-0.005346</td>\n",
       "      <td>-0.78742</td>\n",
       "      <td>-0.068796</td>\n",
       "      <td>0.15916</td>\n",
       "      <td>0.71572</td>\n",
       "      <td>...</td>\n",
       "      <td>-0.033807</td>\n",
       "      <td>-2.8146</td>\n",
       "      <td>-9.0737</td>\n",
       "      <td>2.6218</td>\n",
       "      <td>-0.003929</td>\n",
       "      <td>-0.008371</td>\n",
       "      <td>0.002816</td>\n",
       "      <td>0.73845</td>\n",
       "      <td>0.30090</td>\n",
       "      <td>-0.057527</td>\n",
       "    </tr>\n",
       "  </tbody>\n",
       "</table>\n",
       "<p>5 rows × 45 columns</p>\n",
       "</div>"
      ],
      "text/plain": [
       "       0       1       2         3         4         5        6         7   \\\n",
       "0  8.1305  1.0349  5.4217 -0.009461  0.001915 -0.003424 -0.78712 -0.069654   \n",
       "1  8.1305  1.0202  5.3843 -0.009368  0.023485  0.001953 -0.78717 -0.068275   \n",
       "2  8.1604  1.0201  5.3622  0.015046  0.014330  0.000204 -0.78664 -0.068277   \n",
       "3  8.1603  1.0052  5.3770  0.006892  0.018045  0.005649 -0.78529 -0.069849   \n",
       "4  8.1605  1.0275  5.3473  0.008811  0.030433 -0.005346 -0.78742 -0.068796   \n",
       "\n",
       "        8        9   ...        35      36      37      38        39  \\\n",
       "0  0.15730  0.70097  ... -0.036453 -2.8071 -9.0812  2.6220 -0.000232   \n",
       "1  0.15890  0.71829  ... -0.034005 -2.8146 -9.0737  2.6218 -0.014784   \n",
       "2  0.15879  0.69849  ... -0.036489 -2.8221 -9.0886  2.6366 -0.012770   \n",
       "3  0.15912  0.72799  ... -0.036151 -2.8071 -9.0811  2.6070 -0.005725   \n",
       "4  0.15916  0.71572  ... -0.033807 -2.8146 -9.0737  2.6218 -0.003929   \n",
       "\n",
       "         40        41       42       43        44  \n",
       "0 -0.012092 -0.004457  0.74017  0.30053 -0.057730  \n",
       "1 -0.016477  0.002789  0.73937  0.30183 -0.057514  \n",
       "2  0.005717 -0.007918  0.73955  0.30052 -0.057219  \n",
       "3  0.009620  0.006555  0.74029  0.30184 -0.057750  \n",
       "4 -0.008371  0.002816  0.73845  0.30090 -0.057527  \n",
       "\n",
       "[5 rows x 45 columns]"
      ]
     },
     "execution_count": 2,
     "metadata": {},
     "output_type": "execute_result"
    }
   ],
   "source": [
    "df = pd.read_csv(path+\"/a01/p1/s01.txt\", names = list(range(45)))\n",
    "df.head()"
   ]
  },
  {
   "cell_type": "markdown",
   "metadata": {},
   "source": [
    "___\n",
    "In each text file, there are 5 units x 9 sensors = 45 columns and 5 sec x 25 Hz = 125 rows:\n",
    "\n",
    "* Each column contains the 125 samples of data acquired from one of the sensors of one of the units over a period of 5 sec (column1= s01/a01 per 5 seconds);\n",
    "* Each row contains data acquired from all of the 45 sensor axes at a particular sampling instant separated by commas (row1= instant of every movement).\n",
    "\n",
    "Therefore:\n",
    "\n",
    "* UNIT1 = TORSO (columns 1 to 9),\n",
    "* UNIT2 = RIGHTARM (columns 10  to 18),\n",
    "* UNIT3 = LEFTARM (columns 19  to 27),\n",
    "* UNIT4 = RIGHTLEG (columns 28  to 36),\n",
    "* UNIT5 = LEFTLEG (columns 37  to 45)."
   ]
  },
  {
   "cell_type": "code",
   "execution_count": 3,
   "metadata": {},
   "outputs": [
    {
     "data": {
      "text/html": [
       "<div>\n",
       "<style scoped>\n",
       "    .dataframe tbody tr th:only-of-type {\n",
       "        vertical-align: middle;\n",
       "    }\n",
       "\n",
       "    .dataframe tbody tr th {\n",
       "        vertical-align: top;\n",
       "    }\n",
       "\n",
       "    .dataframe thead th {\n",
       "        text-align: right;\n",
       "    }\n",
       "</style>\n",
       "<table border=\"1\" class=\"dataframe\">\n",
       "  <thead>\n",
       "    <tr style=\"text-align: right;\">\n",
       "      <th></th>\n",
       "      <th>0</th>\n",
       "      <th>1</th>\n",
       "      <th>2</th>\n",
       "      <th>3</th>\n",
       "      <th>4</th>\n",
       "      <th>5</th>\n",
       "      <th>6</th>\n",
       "      <th>7</th>\n",
       "      <th>8</th>\n",
       "    </tr>\n",
       "  </thead>\n",
       "  <tbody>\n",
       "    <tr>\n",
       "      <th>0</th>\n",
       "      <td>7.9665</td>\n",
       "      <td>1.1684</td>\n",
       "      <td>5.6755</td>\n",
       "      <td>-0.005730</td>\n",
       "      <td>0.026995</td>\n",
       "      <td>-0.009029</td>\n",
       "      <td>-0.79062</td>\n",
       "      <td>-0.071635</td>\n",
       "      <td>0.13429</td>\n",
       "    </tr>\n",
       "    <tr>\n",
       "      <th>1</th>\n",
       "      <td>7.9516</td>\n",
       "      <td>1.1391</td>\n",
       "      <td>5.6155</td>\n",
       "      <td>0.021366</td>\n",
       "      <td>0.017938</td>\n",
       "      <td>0.000162</td>\n",
       "      <td>-0.79185</td>\n",
       "      <td>-0.070445</td>\n",
       "      <td>0.13370</td>\n",
       "    </tr>\n",
       "    <tr>\n",
       "      <th>2</th>\n",
       "      <td>7.9889</td>\n",
       "      <td>1.1462</td>\n",
       "      <td>5.6307</td>\n",
       "      <td>0.003299</td>\n",
       "      <td>0.023385</td>\n",
       "      <td>-0.005354</td>\n",
       "      <td>-0.79230</td>\n",
       "      <td>-0.068743</td>\n",
       "      <td>0.13300</td>\n",
       "    </tr>\n",
       "    <tr>\n",
       "      <th>3</th>\n",
       "      <td>7.9367</td>\n",
       "      <td>1.1246</td>\n",
       "      <td>5.5780</td>\n",
       "      <td>0.005106</td>\n",
       "      <td>0.029771</td>\n",
       "      <td>0.006469</td>\n",
       "      <td>-0.79188</td>\n",
       "      <td>-0.071335</td>\n",
       "      <td>0.13317</td>\n",
       "    </tr>\n",
       "    <tr>\n",
       "      <th>4</th>\n",
       "      <td>7.9365</td>\n",
       "      <td>1.1169</td>\n",
       "      <td>5.6451</td>\n",
       "      <td>-0.000204</td>\n",
       "      <td>0.053082</td>\n",
       "      <td>0.002716</td>\n",
       "      <td>-0.79185</td>\n",
       "      <td>-0.071091</td>\n",
       "      <td>0.13370</td>\n",
       "    </tr>\n",
       "    <tr>\n",
       "      <th>...</th>\n",
       "      <td>...</td>\n",
       "      <td>...</td>\n",
       "      <td>...</td>\n",
       "      <td>...</td>\n",
       "      <td>...</td>\n",
       "      <td>...</td>\n",
       "      <td>...</td>\n",
       "      <td>...</td>\n",
       "      <td>...</td>\n",
       "    </tr>\n",
       "    <tr>\n",
       "      <th>120</th>\n",
       "      <td>7.9290</td>\n",
       "      <td>1.1535</td>\n",
       "      <td>5.6984</td>\n",
       "      <td>0.003203</td>\n",
       "      <td>0.010940</td>\n",
       "      <td>-0.004453</td>\n",
       "      <td>-0.79402</td>\n",
       "      <td>-0.070616</td>\n",
       "      <td>0.12868</td>\n",
       "    </tr>\n",
       "    <tr>\n",
       "      <th>121</th>\n",
       "      <td>7.9067</td>\n",
       "      <td>1.1465</td>\n",
       "      <td>5.6609</td>\n",
       "      <td>-0.009330</td>\n",
       "      <td>0.037889</td>\n",
       "      <td>-0.005502</td>\n",
       "      <td>-0.79379</td>\n",
       "      <td>-0.070210</td>\n",
       "      <td>0.12788</td>\n",
       "    </tr>\n",
       "    <tr>\n",
       "      <th>122</th>\n",
       "      <td>7.9364</td>\n",
       "      <td>1.1386</td>\n",
       "      <td>5.7058</td>\n",
       "      <td>0.005154</td>\n",
       "      <td>0.032336</td>\n",
       "      <td>-0.012750</td>\n",
       "      <td>-0.79358</td>\n",
       "      <td>-0.069797</td>\n",
       "      <td>0.12681</td>\n",
       "    </tr>\n",
       "    <tr>\n",
       "      <th>123</th>\n",
       "      <td>7.9067</td>\n",
       "      <td>1.1685</td>\n",
       "      <td>5.7058</td>\n",
       "      <td>0.009645</td>\n",
       "      <td>0.030600</td>\n",
       "      <td>-0.005442</td>\n",
       "      <td>-0.79380</td>\n",
       "      <td>-0.071496</td>\n",
       "      <td>0.12762</td>\n",
       "    </tr>\n",
       "    <tr>\n",
       "      <th>124</th>\n",
       "      <td>7.8991</td>\n",
       "      <td>1.1389</td>\n",
       "      <td>5.7204</td>\n",
       "      <td>0.003239</td>\n",
       "      <td>0.021752</td>\n",
       "      <td>0.000058</td>\n",
       "      <td>-0.79384</td>\n",
       "      <td>-0.070314</td>\n",
       "      <td>0.12694</td>\n",
       "    </tr>\n",
       "  </tbody>\n",
       "</table>\n",
       "<p>125 rows × 9 columns</p>\n",
       "</div>"
      ],
      "text/plain": [
       "          0       1       2         3         4         5        6         7  \\\n",
       "0    7.9665  1.1684  5.6755 -0.005730  0.026995 -0.009029 -0.79062 -0.071635   \n",
       "1    7.9516  1.1391  5.6155  0.021366  0.017938  0.000162 -0.79185 -0.070445   \n",
       "2    7.9889  1.1462  5.6307  0.003299  0.023385 -0.005354 -0.79230 -0.068743   \n",
       "3    7.9367  1.1246  5.5780  0.005106  0.029771  0.006469 -0.79188 -0.071335   \n",
       "4    7.9365  1.1169  5.6451 -0.000204  0.053082  0.002716 -0.79185 -0.071091   \n",
       "..      ...     ...     ...       ...       ...       ...      ...       ...   \n",
       "120  7.9290  1.1535  5.6984  0.003203  0.010940 -0.004453 -0.79402 -0.070616   \n",
       "121  7.9067  1.1465  5.6609 -0.009330  0.037889 -0.005502 -0.79379 -0.070210   \n",
       "122  7.9364  1.1386  5.7058  0.005154  0.032336 -0.012750 -0.79358 -0.069797   \n",
       "123  7.9067  1.1685  5.7058  0.009645  0.030600 -0.005442 -0.79380 -0.071496   \n",
       "124  7.8991  1.1389  5.7204  0.003239  0.021752  0.000058 -0.79384 -0.070314   \n",
       "\n",
       "           8  \n",
       "0    0.13429  \n",
       "1    0.13370  \n",
       "2    0.13300  \n",
       "3    0.13317  \n",
       "4    0.13370  \n",
       "..       ...  \n",
       "120  0.12868  \n",
       "121  0.12788  \n",
       "122  0.12681  \n",
       "123  0.12762  \n",
       "124  0.12694  \n",
       "\n",
       "[125 rows x 9 columns]"
      ]
     },
     "execution_count": 3,
     "metadata": {},
     "output_type": "execute_result"
    }
   ],
   "source": [
    "os.getcwd()\n",
    "os.chdir(\"C:\\\\Users\\\\Orr\\\\Documents\\\\DataScience_2020\\\\Neoland\\\\GITHUB_projects\\\\class\\\\2.Clustering\\\\KMEANS\\\\data\")\n",
    "os.chdir(path+\"\\\\a01\\\\p1\\\\\")\n",
    "os.listdir()\n",
    "#first segment sequence for torso\n",
    "pd.read_csv(\"s01.txt\", names=list(range(45))).iloc[:, :9]\n",
    "#second segment sequence for torso\n",
    "pd.read_csv(\"s02.txt\", names=list(range(45))).iloc[:, :9]"
   ]
  },
  {
   "cell_type": "code",
   "execution_count": 4,
   "metadata": {},
   "outputs": [],
   "source": [
    "a01p1 = pd.DataFrame(columns=range(1125))\n",
    "\n",
    "for i in [\"01\",\"02\",\"03\",\"04\",\"05\",\"06\",\"07\",\"08\",\"09\"]+list(range(10,61)):\n",
    "    df = pd.read_csv(path+\"/a01/p1/s{}.txt\".format(str(i)), names = list(range(45)))\n",
    "    df = df.iloc[:, :9]\n",
    "    \n",
    "    p = []\n",
    "    for i in range(len(df)):\n",
    "        p.extend(df.iloc[i].values)\n",
    "    #125 rows for each dataframe multiplied for 9 columns\n",
    "    df5 = pd.DataFrame([p], columns = range(1125))\n",
    "    a01p1= pd.concat([a01p1, df5])"
   ]
  },
  {
   "cell_type": "markdown",
   "metadata": {},
   "source": [
    "After completing the iteration we end up with a new DataFrame where the first row contains in 1125 columns (125 x 9) the first segment, and so on."
   ]
  },
  {
   "cell_type": "code",
   "execution_count": 5,
   "metadata": {},
   "outputs": [
    {
     "name": "stdout",
     "output_type": "stream",
     "text": [
      "(60, 1125)\n"
     ]
    },
    {
     "data": {
      "text/html": [
       "<div>\n",
       "<style scoped>\n",
       "    .dataframe tbody tr th:only-of-type {\n",
       "        vertical-align: middle;\n",
       "    }\n",
       "\n",
       "    .dataframe tbody tr th {\n",
       "        vertical-align: top;\n",
       "    }\n",
       "\n",
       "    .dataframe thead th {\n",
       "        text-align: right;\n",
       "    }\n",
       "</style>\n",
       "<table border=\"1\" class=\"dataframe\">\n",
       "  <thead>\n",
       "    <tr style=\"text-align: right;\">\n",
       "      <th></th>\n",
       "      <th>0</th>\n",
       "      <th>1</th>\n",
       "      <th>2</th>\n",
       "      <th>3</th>\n",
       "      <th>4</th>\n",
       "      <th>5</th>\n",
       "      <th>6</th>\n",
       "      <th>7</th>\n",
       "      <th>8</th>\n",
       "      <th>9</th>\n",
       "      <th>...</th>\n",
       "      <th>1115</th>\n",
       "      <th>1116</th>\n",
       "      <th>1117</th>\n",
       "      <th>1118</th>\n",
       "      <th>1119</th>\n",
       "      <th>1120</th>\n",
       "      <th>1121</th>\n",
       "      <th>1122</th>\n",
       "      <th>1123</th>\n",
       "      <th>1124</th>\n",
       "    </tr>\n",
       "  </thead>\n",
       "  <tbody>\n",
       "    <tr>\n",
       "      <th>0</th>\n",
       "      <td>8.1305</td>\n",
       "      <td>1.0349</td>\n",
       "      <td>5.4217</td>\n",
       "      <td>-0.009461</td>\n",
       "      <td>0.001915</td>\n",
       "      <td>-0.003424</td>\n",
       "      <td>-0.78712</td>\n",
       "      <td>-0.069654</td>\n",
       "      <td>0.15730</td>\n",
       "      <td>8.1305</td>\n",
       "      <td>...</td>\n",
       "      <td>0.13478</td>\n",
       "      <td>7.9812</td>\n",
       "      <td>1.0945</td>\n",
       "      <td>5.6005</td>\n",
       "      <td>-0.005819</td>\n",
       "      <td>0.016371</td>\n",
       "      <td>0.002868</td>\n",
       "      <td>-0.79209</td>\n",
       "      <td>-0.070456</td>\n",
       "      <td>0.13423</td>\n",
       "    </tr>\n",
       "    <tr>\n",
       "      <th>0</th>\n",
       "      <td>7.9665</td>\n",
       "      <td>1.1684</td>\n",
       "      <td>5.6755</td>\n",
       "      <td>-0.005730</td>\n",
       "      <td>0.026995</td>\n",
       "      <td>-0.009029</td>\n",
       "      <td>-0.79062</td>\n",
       "      <td>-0.071635</td>\n",
       "      <td>0.13429</td>\n",
       "      <td>7.9516</td>\n",
       "      <td>...</td>\n",
       "      <td>0.12762</td>\n",
       "      <td>7.8991</td>\n",
       "      <td>1.1389</td>\n",
       "      <td>5.7204</td>\n",
       "      <td>0.003239</td>\n",
       "      <td>0.021752</td>\n",
       "      <td>0.000058</td>\n",
       "      <td>-0.79384</td>\n",
       "      <td>-0.070314</td>\n",
       "      <td>0.12694</td>\n",
       "    </tr>\n",
       "    <tr>\n",
       "      <th>0</th>\n",
       "      <td>7.8917</td>\n",
       "      <td>1.1390</td>\n",
       "      <td>5.6980</td>\n",
       "      <td>0.014180</td>\n",
       "      <td>0.028722</td>\n",
       "      <td>-0.009079</td>\n",
       "      <td>-0.79531</td>\n",
       "      <td>-0.069460</td>\n",
       "      <td>0.12447</td>\n",
       "      <td>7.9065</td>\n",
       "      <td>...</td>\n",
       "      <td>0.13108</td>\n",
       "      <td>7.9588</td>\n",
       "      <td>1.1239</td>\n",
       "      <td>5.6168</td>\n",
       "      <td>0.006900</td>\n",
       "      <td>0.028915</td>\n",
       "      <td>-0.000911</td>\n",
       "      <td>-0.79375</td>\n",
       "      <td>-0.071949</td>\n",
       "      <td>0.13380</td>\n",
       "    </tr>\n",
       "    <tr>\n",
       "      <th>0</th>\n",
       "      <td>7.9366</td>\n",
       "      <td>1.1536</td>\n",
       "      <td>5.6318</td>\n",
       "      <td>0.003242</td>\n",
       "      <td>0.029965</td>\n",
       "      <td>0.009111</td>\n",
       "      <td>-0.79292</td>\n",
       "      <td>-0.070358</td>\n",
       "      <td>0.13194</td>\n",
       "      <td>7.9665</td>\n",
       "      <td>...</td>\n",
       "      <td>0.12063</td>\n",
       "      <td>7.8090</td>\n",
       "      <td>1.2047</td>\n",
       "      <td>6.0569</td>\n",
       "      <td>-0.003188</td>\n",
       "      <td>0.003819</td>\n",
       "      <td>-0.016342</td>\n",
       "      <td>-0.79537</td>\n",
       "      <td>-0.072348</td>\n",
       "      <td>0.11873</td>\n",
       "    </tr>\n",
       "    <tr>\n",
       "      <th>0</th>\n",
       "      <td>7.8913</td>\n",
       "      <td>1.1972</td>\n",
       "      <td>5.9082</td>\n",
       "      <td>-0.044333</td>\n",
       "      <td>-0.067467</td>\n",
       "      <td>-0.004235</td>\n",
       "      <td>-0.79592</td>\n",
       "      <td>-0.073174</td>\n",
       "      <td>0.12086</td>\n",
       "      <td>7.8696</td>\n",
       "      <td>...</td>\n",
       "      <td>0.14448</td>\n",
       "      <td>8.0486</td>\n",
       "      <td>1.1383</td>\n",
       "      <td>5.4544</td>\n",
       "      <td>-0.009570</td>\n",
       "      <td>-0.010470</td>\n",
       "      <td>-0.010857</td>\n",
       "      <td>-0.79026</td>\n",
       "      <td>-0.071108</td>\n",
       "      <td>0.14722</td>\n",
       "    </tr>\n",
       "  </tbody>\n",
       "</table>\n",
       "<p>5 rows × 1125 columns</p>\n",
       "</div>"
      ],
      "text/plain": [
       "     0       1       2         3         4         5        6         7     \\\n",
       "0  8.1305  1.0349  5.4217 -0.009461  0.001915 -0.003424 -0.78712 -0.069654   \n",
       "0  7.9665  1.1684  5.6755 -0.005730  0.026995 -0.009029 -0.79062 -0.071635   \n",
       "0  7.8917  1.1390  5.6980  0.014180  0.028722 -0.009079 -0.79531 -0.069460   \n",
       "0  7.9366  1.1536  5.6318  0.003242  0.029965  0.009111 -0.79292 -0.070358   \n",
       "0  7.8913  1.1972  5.9082 -0.044333 -0.067467 -0.004235 -0.79592 -0.073174   \n",
       "\n",
       "      8       9     ...     1115    1116    1117    1118      1119      1120  \\\n",
       "0  0.15730  8.1305  ...  0.13478  7.9812  1.0945  5.6005 -0.005819  0.016371   \n",
       "0  0.13429  7.9516  ...  0.12762  7.8991  1.1389  5.7204  0.003239  0.021752   \n",
       "0  0.12447  7.9065  ...  0.13108  7.9588  1.1239  5.6168  0.006900  0.028915   \n",
       "0  0.13194  7.9665  ...  0.12063  7.8090  1.2047  6.0569 -0.003188  0.003819   \n",
       "0  0.12086  7.8696  ...  0.14448  8.0486  1.1383  5.4544 -0.009570 -0.010470   \n",
       "\n",
       "       1121     1122      1123     1124  \n",
       "0  0.002868 -0.79209 -0.070456  0.13423  \n",
       "0  0.000058 -0.79384 -0.070314  0.12694  \n",
       "0 -0.000911 -0.79375 -0.071949  0.13380  \n",
       "0 -0.016342 -0.79537 -0.072348  0.11873  \n",
       "0 -0.010857 -0.79026 -0.071108  0.14722  \n",
       "\n",
       "[5 rows x 1125 columns]"
      ]
     },
     "execution_count": 5,
     "metadata": {},
     "output_type": "execute_result"
    }
   ],
   "source": [
    "print(a01p1.shape)\n",
    "a01p1.head()"
   ]
  },
  {
   "cell_type": "markdown",
   "metadata": {},
   "source": [
    "Up to this moment we have organized the first 60 segments of the first person's torso movement. The same iteration can be used to organize the second movement, so in order to save time and lines of code we can create a function to quickly solve the issue."
   ]
  },
  {
   "cell_type": "code",
   "execution_count": 6,
   "metadata": {},
   "outputs": [],
   "source": [
    "def get_movement(activity_path):\n",
    "    \"\"\"Return a dataframe with all the segments of the given activity for the torso\"\"\"\n",
    "    result = pd.DataFrame(columns = range(1125))\n",
    "    for i in [\"01\", \"02\", \"03\", \"04\", \"05\", \"06\", \"07\", \"08\", \"09\"] + list(range(10,61)):\n",
    "        df = pd.read_csv(path+ activity_path + \"s{}.txt\".format(str(i)), names =range(45))\n",
    "        df=df.iloc[:, :9]\n",
    "        p = []\n",
    "        for i in range(len(df)):\n",
    "            p.extend(df.iloc[i].values)\n",
    "        df1= pd.DataFrame([p], columns = range(1125))\n",
    "        result = pd.concat([result, df1])\n",
    "    return result   "
   ]
  },
  {
   "cell_type": "code",
   "execution_count": 7,
   "metadata": {},
   "outputs": [
    {
     "data": {
      "text/plain": [
       "(60, 1125)"
      ]
     },
     "execution_count": 7,
     "metadata": {},
     "output_type": "execute_result"
    }
   ],
   "source": [
    "a01p1 = get_movement(\"\\\\a01\\\\p1\\\\\")\n",
    "a01p1.shape"
   ]
  },
  {
   "cell_type": "markdown",
   "metadata": {},
   "source": [
    "At this point we're able to quickly organize in one single DataFrame all the segments. Given that every activity is divided in 60 segments, we'll have 60 segments x 19 activities. The final DataFrame for all the data will hence have 1140 rows (60 * 19) per 1125 columns (125 * 9).\n",
    "\n",
    "Ok, let's create an iteration to load every segment of every activity. The process might take a while, in order to keep track of it we'll use the tqdm library, which by following a simple process display a progress bar.\n",
    "\n",
    "We can now add a new iteration for every person tested (9) to reach a complete DataFrame for the first acitivity, counting a total of 9120 rows and 1125 columns."
   ]
  },
  {
   "cell_type": "code",
   "execution_count": 8,
   "metadata": {},
   "outputs": [
    {
     "name": "stderr",
     "output_type": "stream",
     "text": [
      "  0%|          | 0/8 [00:00<?, ?it/s]"
     ]
    },
    {
     "name": "stdout",
     "output_type": "stream",
     "text": [
      "activity 01 completed; activity 02 completed; activity 03 completed; activity 04 completed; activity 05 completed; activity 06 completed; activity 07 completed; activity 08 completed; activity 09 completed; activity 10 completed; activity 11 completed; activity 12 completed; activity 13 completed; activity 14 completed; activity 15 completed; activity 16 completed; activity 17 completed; activity 18 completed; "
     ]
    },
    {
     "name": "stderr",
     "output_type": "stream",
     "text": [
      " 12%|█▎        | 1/8 [02:12<15:29, 132.78s/it]"
     ]
    },
    {
     "name": "stdout",
     "output_type": "stream",
     "text": [
      "activity 19 completed; person 1 completed\n",
      "activity 01 completed; activity 02 completed; activity 03 completed; activity 04 completed; activity 05 completed; activity 06 completed; activity 07 completed; activity 08 completed; activity 09 completed; activity 10 completed; activity 11 completed; activity 12 completed; activity 13 completed; activity 14 completed; activity 15 completed; activity 16 completed; activity 17 completed; activity 18 completed; "
     ]
    },
    {
     "name": "stderr",
     "output_type": "stream",
     "text": [
      " 25%|██▌       | 2/8 [04:06<12:41, 127.00s/it]"
     ]
    },
    {
     "name": "stdout",
     "output_type": "stream",
     "text": [
      "activity 19 completed; person 2 completed\n",
      "activity 01 completed; activity 02 completed; activity 03 completed; activity 04 completed; activity 05 completed; activity 06 completed; activity 07 completed; activity 08 completed; activity 09 completed; activity 10 completed; activity 11 completed; activity 12 completed; activity 13 completed; activity 14 completed; activity 15 completed; activity 16 completed; activity 17 completed; activity 18 completed; "
     ]
    },
    {
     "name": "stderr",
     "output_type": "stream",
     "text": [
      " 38%|███▊      | 3/8 [05:45<09:53, 118.71s/it]"
     ]
    },
    {
     "name": "stdout",
     "output_type": "stream",
     "text": [
      "activity 19 completed; person 3 completed\n",
      "activity 01 completed; activity 02 completed; activity 03 completed; activity 04 completed; activity 05 completed; activity 06 completed; activity 07 completed; activity 08 completed; activity 09 completed; activity 10 completed; activity 11 completed; activity 12 completed; activity 13 completed; activity 14 completed; activity 15 completed; activity 16 completed; activity 17 completed; activity 18 completed; "
     ]
    },
    {
     "name": "stderr",
     "output_type": "stream",
     "text": [
      " 50%|█████     | 4/8 [07:25<07:32, 113.18s/it]"
     ]
    },
    {
     "name": "stdout",
     "output_type": "stream",
     "text": [
      "activity 19 completed; person 4 completed\n",
      "activity 01 completed; activity 02 completed; activity 03 completed; activity 04 completed; activity 05 completed; activity 06 completed; activity 07 completed; activity 08 completed; activity 09 completed; activity 10 completed; activity 11 completed; activity 12 completed; activity 13 completed; activity 14 completed; activity 15 completed; activity 16 completed; activity 17 completed; activity 18 completed; "
     ]
    },
    {
     "name": "stderr",
     "output_type": "stream",
     "text": [
      " 62%|██████▎   | 5/8 [09:06<05:28, 109.42s/it]"
     ]
    },
    {
     "name": "stdout",
     "output_type": "stream",
     "text": [
      "activity 19 completed; person 5 completed\n",
      "activity 01 completed; activity 02 completed; activity 03 completed; activity 04 completed; activity 05 completed; activity 06 completed; activity 07 completed; activity 08 completed; activity 09 completed; activity 10 completed; activity 11 completed; activity 12 completed; activity 13 completed; activity 14 completed; activity 15 completed; activity 16 completed; activity 17 completed; activity 18 completed; "
     ]
    },
    {
     "name": "stderr",
     "output_type": "stream",
     "text": [
      " 75%|███████▌  | 6/8 [10:46<03:32, 106.50s/it]"
     ]
    },
    {
     "name": "stdout",
     "output_type": "stream",
     "text": [
      "activity 19 completed; person 6 completed\n",
      "activity 01 completed; activity 02 completed; activity 03 completed; activity 04 completed; activity 05 completed; activity 06 completed; activity 07 completed; activity 08 completed; activity 09 completed; activity 10 completed; activity 11 completed; activity 12 completed; activity 13 completed; activity 14 completed; activity 15 completed; activity 16 completed; activity 17 completed; activity 18 completed; "
     ]
    },
    {
     "name": "stderr",
     "output_type": "stream",
     "text": [
      " 88%|████████▊ | 7/8 [12:25<01:44, 104.27s/it]"
     ]
    },
    {
     "name": "stdout",
     "output_type": "stream",
     "text": [
      "activity 19 completed; person 7 completed\n",
      "activity 01 completed; activity 02 completed; activity 03 completed; activity 04 completed; activity 05 completed; activity 06 completed; activity 07 completed; activity 08 completed; activity 09 completed; activity 10 completed; activity 11 completed; activity 12 completed; activity 13 completed; activity 14 completed; activity 15 completed; activity 16 completed; activity 17 completed; activity 18 completed; "
     ]
    },
    {
     "name": "stderr",
     "output_type": "stream",
     "text": [
      "100%|██████████| 8/8 [14:05<00:00, 105.71s/it]"
     ]
    },
    {
     "name": "stdout",
     "output_type": "stream",
     "text": [
      "activity 19 completed; person 8 completed\n",
      "DataFrame completed.\n",
      "loading...\n"
     ]
    },
    {
     "name": "stderr",
     "output_type": "stream",
     "text": [
      "\n"
     ]
    }
   ],
   "source": [
    "moves = []\n",
    "\n",
    "for person in tqdm(range(1,9), position = 0, leave = True): \n",
    "    for i in [\"01\", \"02\", \"03\", \"04\", \"05\", \"06\", \"07\", \"08\", \"09\"] + list(range(10,20)):\n",
    "        moves.extend(get_movement(\"\\\\a{}\\\\p{}\\\\\".format(i, person)).values)\n",
    "        print(\"activity {} completed\".format(i), end = \"; \")\n",
    "    print(\"person {} completed\".format(person))\n",
    "\n",
    "print(\"DataFrame completed.\")\n",
    "print(\"loading...\")"
   ]
  },
  {
   "cell_type": "markdown",
   "metadata": {},
   "source": [
    "DataFrame structure\n",
    "\n",
    "1 row is a full segment distributed in 1125 columns as previously seen, hence: \n",
    "\n",
    "* Every 60 rows we'll have one activity (60 * 19 = 1140)\n",
    "* Every 1140 rows we'll have a new person.\n"
   ]
  },
  {
   "cell_type": "code",
   "execution_count": 9,
   "metadata": {},
   "outputs": [
    {
     "name": "stdout",
     "output_type": "stream",
     "text": [
      "(9120, 1125)\n"
     ]
    }
   ],
   "source": [
    "fulldf = pd.DataFrame(moves, columns = range(1125))\n",
    "#save the file as a csv\n",
    "# fulldf.to_csv(\"C:/Users/Orr/Documents/DataScience_2020/Neoland/GITHUB_projects/project/2.Clustering/data/final_df.csv\")\n",
    "print(fulldf.shape)"
   ]
  },
  {
   "cell_type": "code",
   "execution_count": 10,
   "metadata": {},
   "outputs": [],
   "source": [
    "p1 = fulldf.iloc[:1140, :]\n",
    "p1.head()\n",
    "#6 activities\n",
    "p2 = fulldf.iloc[1140:1500, :]"
   ]
  },
  {
   "cell_type": "markdown",
   "metadata": {},
   "source": [
    "___\n",
    "Now we can apply KMeans to our algorithm trying to identify the different activities done by the same person"
   ]
  },
  {
   "cell_type": "code",
   "execution_count": 11,
   "metadata": {},
   "outputs": [],
   "source": [
    "from sklearn.preprocessing import MinMaxScaler\n",
    "from sklearn.cluster import KMeans"
   ]
  },
  {
   "cell_type": "code",
   "execution_count": 12,
   "metadata": {},
   "outputs": [
    {
     "data": {
      "text/plain": [
       "(360, 1125)"
      ]
     },
     "execution_count": 12,
     "metadata": {},
     "output_type": "execute_result"
    }
   ],
   "source": [
    "#Normalize the values to improve KMeans\n",
    "scaled_df = MinMaxScaler().fit_transform(p2.values)\n",
    "scaled_df.shape"
   ]
  },
  {
   "cell_type": "markdown",
   "metadata": {},
   "source": [
    "In this case we already know that every person did 19 different activities, hence we could already set the number of clusters to 19 and see how the alogrithm behave. However for a more visual impact, we'll use the elbow method to visualize how many k are suggested.\n",
    "\n",
    "Let's start with just the first 3 activities of the second person:"
   ]
  },
  {
   "cell_type": "code",
   "execution_count": 13,
   "metadata": {},
   "outputs": [
    {
     "name": "stderr",
     "output_type": "stream",
     "text": [
      "100%|██████████| 19/19 [00:05<00:00,  3.69it/s]\n"
     ]
    }
   ],
   "source": [
    "labels = []\n",
    "inertia = []\n",
    "for k in tqdm(range(1,20)):\n",
    "    kmeans = KMeans(n_clusters = k)\n",
    "    kmeans.fit(scaled_df)\n",
    "    labels.append(kmeans.labels_)\n",
    "    inertia.append(kmeans.inertia_)"
   ]
  },
  {
   "cell_type": "code",
   "execution_count": 14,
   "metadata": {},
   "outputs": [
    {
     "data": {
      "image/png": "[encoded data removed]",
      "text/plain": [
       "<Figure size 1080x468 with 1 Axes>"
      ]
     },
     "metadata": {},
     "output_type": "display_data"
    }
   ],
   "source": [
    "fig, ax = plt.subplots(figsize=(15,6.5))\n",
    "sns.lineplot(range(1,20), inertia)\n",
    "ax.set_xlabel(\"Ks\")\n",
    "ax.set_ylabel(\"inertia\")\n",
    "plt.show()"
   ]
  },
  {
   "cell_type": "markdown",
   "metadata": {},
   "source": [
    "Even if we inserted 6 activities the elbow method suggests 4 categories. We could try to confirm it using dendrograms. What we need are:\n",
    "\n",
    "* distance_matrix from scipy.spatial: preprocess the data into a distance matrix;\n",
    "* hierarchy from scipy.cluster to define the linkage between the values and to create a dendrogram;\n",
    "* pylab to visualize the image properly."
   ]
  },
  {
   "cell_type": "code",
   "execution_count": 15,
   "metadata": {},
   "outputs": [],
   "source": [
    "from scipy.spatial import distance_matrix\n",
    "\n",
    "dist = distance_matrix(p2,p2)"
   ]
  },
  {
   "cell_type": "code",
   "execution_count": 16,
   "metadata": {},
   "outputs": [
    {
     "data": {
      "image/png": "[encoded data removed]",
      "text/plain": [
       "<Figure size 1080x468 with 1 Axes>"
      ]
     },
     "metadata": {},
     "output_type": "display_data"
    }
   ],
   "source": [
    "from scipy.cluster import hierarchy\n",
    "import pylab \n",
    "\n",
    "hc = hierarchy.linkage(dist, \"complete\")\n",
    "\n",
    "pylab.figure(figsize=(15,6.5))\n",
    "dendro = hierarchy.dendrogram(hc)\n",
    "plt.show()"
   ]
  },
  {
   "cell_type": "code",
   "execution_count": 17,
   "metadata": {},
   "outputs": [
    {
     "data": {
      "text/plain": [
       "array([4, 4, 4, 4, 4, 4, 4, 4, 4, 4, 4, 4, 4, 4, 4, 4, 4, 4, 4, 4, 4, 4,\n",
       "       4, 4, 4, 4, 4, 4, 4, 4, 4, 4, 4, 4, 4, 4, 4, 4, 4, 4, 4, 4, 4, 4,\n",
       "       4, 4, 4, 4, 4, 4, 4, 4, 4, 4, 4, 4, 4, 4, 4, 4, 5, 5, 5, 5, 5, 5,\n",
       "       5, 5, 5, 5, 5, 5, 5, 5, 5, 5, 5, 5, 5, 5, 5, 5, 5, 5, 5, 5, 5, 5,\n",
       "       5, 5, 5, 5, 5, 5, 5, 5, 5, 5, 5, 5, 5, 5, 5, 5, 5, 5, 5, 5, 5, 5,\n",
       "       5, 5, 5, 5, 5, 5, 5, 5, 5, 5, 2, 2, 2, 2, 2, 2, 2, 2, 2, 2, 2, 2,\n",
       "       2, 2, 2, 2, 2, 2, 2, 2, 2, 2, 2, 2, 2, 2, 2, 2, 2, 2, 2, 2, 2, 2,\n",
       "       2, 2, 2, 2, 2, 2, 2, 2, 2, 2, 2, 2, 2, 2, 2, 2, 2, 2, 2, 2, 2, 2,\n",
       "       2, 2, 2, 2, 1, 1, 1, 1, 1, 1, 1, 1, 1, 1, 1, 1, 1, 1, 1, 1, 1, 1,\n",
       "       1, 1, 1, 1, 1, 1, 1, 1, 1, 1, 1, 1, 1, 1, 1, 1, 1, 1, 1, 1, 1, 1,\n",
       "       1, 1, 1, 1, 1, 1, 1, 1, 1, 1, 1, 1, 1, 1, 1, 1, 1, 1, 1, 1, 0, 0,\n",
       "       0, 0, 0, 0, 0, 0, 0, 0, 0, 0, 0, 0, 0, 0, 0, 0, 0, 0, 5, 5, 0, 0,\n",
       "       0, 0, 0, 0, 0, 0, 5, 0, 0, 0, 0, 0, 0, 0, 0, 0, 5, 0, 0, 0, 0, 0,\n",
       "       0, 0, 0, 0, 5, 5, 0, 0, 0, 0, 0, 0, 0, 0, 3, 3, 3, 3, 3, 3, 3, 3,\n",
       "       3, 3, 3, 3, 3, 3, 3, 3, 3, 3, 3, 3, 3, 3, 3, 3, 3, 3, 3, 3, 3, 3,\n",
       "       3, 3, 3, 3, 3, 3, 3, 3, 3, 3, 3, 3, 3, 3, 3, 3, 3, 3, 3, 3, 3, 3,\n",
       "       3, 3, 3, 3, 3, 3, 3, 3])"
      ]
     },
     "execution_count": 17,
     "metadata": {},
     "output_type": "execute_result"
    }
   ],
   "source": [
    "kmeans = KMeans(n_clusters=6)\n",
    "kmeans.fit(scaled_df)\n",
    "kmeans.labels_"
   ]
  },
  {
   "cell_type": "code",
   "execution_count": 18,
   "metadata": {},
   "outputs": [
    {
     "data": {
      "text/plain": [
       "Counter({4: 60, 5: 66, 2: 60, 1: 60, 0: 54, 3: 60})"
      ]
     },
     "execution_count": 18,
     "metadata": {},
     "output_type": "execute_result"
    }
   ],
   "source": [
    "from collections import Counter\n",
    "\n",
    "Counter(kmeans.labels_)"
   ]
  },
  {
   "cell_type": "markdown",
   "metadata": {},
   "source": [
    "A similar approach can be used to identify the people who did the same action. \n",
    "\n",
    "First we need to take the same activity for the same duration period for every person and organize them in a new DataFrame 480x1125."
   ]
  },
  {
   "cell_type": "code",
   "execution_count": 19,
   "metadata": {},
   "outputs": [
    {
     "data": {
      "text/html": [
       "<div>\n",
       "<style scoped>\n",
       "    .dataframe tbody tr th:only-of-type {\n",
       "        vertical-align: middle;\n",
       "    }\n",
       "\n",
       "    .dataframe tbody tr th {\n",
       "        vertical-align: top;\n",
       "    }\n",
       "\n",
       "    .dataframe thead th {\n",
       "        text-align: right;\n",
       "    }\n",
       "</style>\n",
       "<table border=\"1\" class=\"dataframe\">\n",
       "  <thead>\n",
       "    <tr style=\"text-align: right;\">\n",
       "      <th></th>\n",
       "      <th>0</th>\n",
       "      <th>1</th>\n",
       "      <th>2</th>\n",
       "      <th>3</th>\n",
       "      <th>4</th>\n",
       "      <th>5</th>\n",
       "      <th>6</th>\n",
       "      <th>7</th>\n",
       "      <th>8</th>\n",
       "      <th>9</th>\n",
       "      <th>...</th>\n",
       "      <th>1115</th>\n",
       "      <th>1116</th>\n",
       "      <th>1117</th>\n",
       "      <th>1118</th>\n",
       "      <th>1119</th>\n",
       "      <th>1120</th>\n",
       "      <th>1121</th>\n",
       "      <th>1122</th>\n",
       "      <th>1123</th>\n",
       "      <th>1124</th>\n",
       "    </tr>\n",
       "  </thead>\n",
       "  <tbody>\n",
       "    <tr>\n",
       "      <th>0</th>\n",
       "      <td>8.1305</td>\n",
       "      <td>1.03490</td>\n",
       "      <td>5.4217</td>\n",
       "      <td>-0.009461</td>\n",
       "      <td>0.001915</td>\n",
       "      <td>-0.003424</td>\n",
       "      <td>-0.78712</td>\n",
       "      <td>-0.069654</td>\n",
       "      <td>0.15730</td>\n",
       "      <td>8.1305</td>\n",
       "      <td>...</td>\n",
       "      <td>0.13478</td>\n",
       "      <td>7.9812</td>\n",
       "      <td>1.09450</td>\n",
       "      <td>5.6005</td>\n",
       "      <td>-0.005819</td>\n",
       "      <td>0.016371</td>\n",
       "      <td>0.002868</td>\n",
       "      <td>-0.79209</td>\n",
       "      <td>-0.070456</td>\n",
       "      <td>0.13423</td>\n",
       "    </tr>\n",
       "    <tr>\n",
       "      <th>1</th>\n",
       "      <td>7.9665</td>\n",
       "      <td>1.16840</td>\n",
       "      <td>5.6755</td>\n",
       "      <td>-0.005730</td>\n",
       "      <td>0.026995</td>\n",
       "      <td>-0.009029</td>\n",
       "      <td>-0.79062</td>\n",
       "      <td>-0.071635</td>\n",
       "      <td>0.13429</td>\n",
       "      <td>7.9516</td>\n",
       "      <td>...</td>\n",
       "      <td>0.12762</td>\n",
       "      <td>7.8991</td>\n",
       "      <td>1.13890</td>\n",
       "      <td>5.7204</td>\n",
       "      <td>0.003239</td>\n",
       "      <td>0.021752</td>\n",
       "      <td>0.000058</td>\n",
       "      <td>-0.79384</td>\n",
       "      <td>-0.070314</td>\n",
       "      <td>0.12694</td>\n",
       "    </tr>\n",
       "    <tr>\n",
       "      <th>2</th>\n",
       "      <td>7.8917</td>\n",
       "      <td>1.13900</td>\n",
       "      <td>5.6980</td>\n",
       "      <td>0.014180</td>\n",
       "      <td>0.028722</td>\n",
       "      <td>-0.009079</td>\n",
       "      <td>-0.79531</td>\n",
       "      <td>-0.069460</td>\n",
       "      <td>0.12447</td>\n",
       "      <td>7.9065</td>\n",
       "      <td>...</td>\n",
       "      <td>0.13108</td>\n",
       "      <td>7.9588</td>\n",
       "      <td>1.12390</td>\n",
       "      <td>5.6168</td>\n",
       "      <td>0.006900</td>\n",
       "      <td>0.028915</td>\n",
       "      <td>-0.000911</td>\n",
       "      <td>-0.79375</td>\n",
       "      <td>-0.071949</td>\n",
       "      <td>0.13380</td>\n",
       "    </tr>\n",
       "    <tr>\n",
       "      <th>3</th>\n",
       "      <td>7.9366</td>\n",
       "      <td>1.15360</td>\n",
       "      <td>5.6318</td>\n",
       "      <td>0.003242</td>\n",
       "      <td>0.029965</td>\n",
       "      <td>0.009111</td>\n",
       "      <td>-0.79292</td>\n",
       "      <td>-0.070358</td>\n",
       "      <td>0.13194</td>\n",
       "      <td>7.9665</td>\n",
       "      <td>...</td>\n",
       "      <td>0.12063</td>\n",
       "      <td>7.8090</td>\n",
       "      <td>1.20470</td>\n",
       "      <td>6.0569</td>\n",
       "      <td>-0.003188</td>\n",
       "      <td>0.003819</td>\n",
       "      <td>-0.016342</td>\n",
       "      <td>-0.79537</td>\n",
       "      <td>-0.072348</td>\n",
       "      <td>0.11873</td>\n",
       "    </tr>\n",
       "    <tr>\n",
       "      <th>4</th>\n",
       "      <td>7.8913</td>\n",
       "      <td>1.19720</td>\n",
       "      <td>5.9082</td>\n",
       "      <td>-0.044333</td>\n",
       "      <td>-0.067467</td>\n",
       "      <td>-0.004235</td>\n",
       "      <td>-0.79592</td>\n",
       "      <td>-0.073174</td>\n",
       "      <td>0.12086</td>\n",
       "      <td>7.8696</td>\n",
       "      <td>...</td>\n",
       "      <td>0.14448</td>\n",
       "      <td>8.0486</td>\n",
       "      <td>1.13830</td>\n",
       "      <td>5.4544</td>\n",
       "      <td>-0.009570</td>\n",
       "      <td>-0.010470</td>\n",
       "      <td>-0.010857</td>\n",
       "      <td>-0.79026</td>\n",
       "      <td>-0.071108</td>\n",
       "      <td>0.14722</td>\n",
       "    </tr>\n",
       "    <tr>\n",
       "      <th>...</th>\n",
       "      <td>...</td>\n",
       "      <td>...</td>\n",
       "      <td>...</td>\n",
       "      <td>...</td>\n",
       "      <td>...</td>\n",
       "      <td>...</td>\n",
       "      <td>...</td>\n",
       "      <td>...</td>\n",
       "      <td>...</td>\n",
       "      <td>...</td>\n",
       "      <td>...</td>\n",
       "      <td>...</td>\n",
       "      <td>...</td>\n",
       "      <td>...</td>\n",
       "      <td>...</td>\n",
       "      <td>...</td>\n",
       "      <td>...</td>\n",
       "      <td>...</td>\n",
       "      <td>...</td>\n",
       "      <td>...</td>\n",
       "      <td>...</td>\n",
       "    </tr>\n",
       "    <tr>\n",
       "      <th>8035</th>\n",
       "      <td>7.7184</td>\n",
       "      <td>-0.46463</td>\n",
       "      <td>6.0783</td>\n",
       "      <td>-0.004303</td>\n",
       "      <td>0.028408</td>\n",
       "      <td>0.012864</td>\n",
       "      <td>-0.61483</td>\n",
       "      <td>-0.423010</td>\n",
       "      <td>-0.13669</td>\n",
       "      <td>7.7334</td>\n",
       "      <td>...</td>\n",
       "      <td>-0.13609</td>\n",
       "      <td>7.7513</td>\n",
       "      <td>-0.40677</td>\n",
       "      <td>5.9935</td>\n",
       "      <td>0.034154</td>\n",
       "      <td>0.021411</td>\n",
       "      <td>-0.016038</td>\n",
       "      <td>-0.60436</td>\n",
       "      <td>-0.434600</td>\n",
       "      <td>-0.14984</td>\n",
       "    </tr>\n",
       "    <tr>\n",
       "      <th>8036</th>\n",
       "      <td>7.7185</td>\n",
       "      <td>-0.44973</td>\n",
       "      <td>6.0560</td>\n",
       "      <td>-0.002494</td>\n",
       "      <td>0.012908</td>\n",
       "      <td>-0.006219</td>\n",
       "      <td>-0.61413</td>\n",
       "      <td>-0.422250</td>\n",
       "      <td>-0.13627</td>\n",
       "      <td>7.7334</td>\n",
       "      <td>...</td>\n",
       "      <td>-0.14728</td>\n",
       "      <td>7.7420</td>\n",
       "      <td>-0.46758</td>\n",
       "      <td>6.0435</td>\n",
       "      <td>0.019033</td>\n",
       "      <td>0.019948</td>\n",
       "      <td>0.010828</td>\n",
       "      <td>-0.62519</td>\n",
       "      <td>-0.425140</td>\n",
       "      <td>-0.12629</td>\n",
       "    </tr>\n",
       "    <tr>\n",
       "      <th>8037</th>\n",
       "      <td>7.7484</td>\n",
       "      <td>-0.42033</td>\n",
       "      <td>6.0565</td>\n",
       "      <td>0.000369</td>\n",
       "      <td>0.047946</td>\n",
       "      <td>0.000934</td>\n",
       "      <td>-0.61282</td>\n",
       "      <td>-0.421020</td>\n",
       "      <td>-0.13434</td>\n",
       "      <td>7.7333</td>\n",
       "      <td>...</td>\n",
       "      <td>-0.13218</td>\n",
       "      <td>7.7223</td>\n",
       "      <td>-0.47145</td>\n",
       "      <td>6.0620</td>\n",
       "      <td>0.002615</td>\n",
       "      <td>0.014236</td>\n",
       "      <td>0.005159</td>\n",
       "      <td>-0.62209</td>\n",
       "      <td>-0.410730</td>\n",
       "      <td>-0.12578</td>\n",
       "    </tr>\n",
       "    <tr>\n",
       "      <th>8038</th>\n",
       "      <td>7.7336</td>\n",
       "      <td>-0.40531</td>\n",
       "      <td>6.0341</td>\n",
       "      <td>0.019278</td>\n",
       "      <td>0.029950</td>\n",
       "      <td>0.006507</td>\n",
       "      <td>-0.61315</td>\n",
       "      <td>-0.423720</td>\n",
       "      <td>-0.13042</td>\n",
       "      <td>7.7486</td>\n",
       "      <td>...</td>\n",
       "      <td>-0.13486</td>\n",
       "      <td>7.7310</td>\n",
       "      <td>-0.41831</td>\n",
       "      <td>6.0811</td>\n",
       "      <td>-0.010447</td>\n",
       "      <td>0.010243</td>\n",
       "      <td>0.005524</td>\n",
       "      <td>-0.63247</td>\n",
       "      <td>-0.427080</td>\n",
       "      <td>-0.13578</td>\n",
       "    </tr>\n",
       "    <tr>\n",
       "      <th>8039</th>\n",
       "      <td>7.7333</td>\n",
       "      <td>-0.45742</td>\n",
       "      <td>6.0640</td>\n",
       "      <td>0.001195</td>\n",
       "      <td>0.024513</td>\n",
       "      <td>-0.011766</td>\n",
       "      <td>-0.61262</td>\n",
       "      <td>-0.422650</td>\n",
       "      <td>-0.13612</td>\n",
       "      <td>7.7482</td>\n",
       "      <td>...</td>\n",
       "      <td>-0.13046</td>\n",
       "      <td>7.7208</td>\n",
       "      <td>-0.39409</td>\n",
       "      <td>5.9935</td>\n",
       "      <td>0.034013</td>\n",
       "      <td>0.024786</td>\n",
       "      <td>-0.001845</td>\n",
       "      <td>-0.60779</td>\n",
       "      <td>-0.406890</td>\n",
       "      <td>-0.13536</td>\n",
       "    </tr>\n",
       "  </tbody>\n",
       "</table>\n",
       "<p>480 rows × 1125 columns</p>\n",
       "</div>"
      ],
      "text/plain": [
       "        0        1       2         3         4         5        6     \\\n",
       "0     8.1305  1.03490  5.4217 -0.009461  0.001915 -0.003424 -0.78712   \n",
       "1     7.9665  1.16840  5.6755 -0.005730  0.026995 -0.009029 -0.79062   \n",
       "2     7.8917  1.13900  5.6980  0.014180  0.028722 -0.009079 -0.79531   \n",
       "3     7.9366  1.15360  5.6318  0.003242  0.029965  0.009111 -0.79292   \n",
       "4     7.8913  1.19720  5.9082 -0.044333 -0.067467 -0.004235 -0.79592   \n",
       "...      ...      ...     ...       ...       ...       ...      ...   \n",
       "8035  7.7184 -0.46463  6.0783 -0.004303  0.028408  0.012864 -0.61483   \n",
       "8036  7.7185 -0.44973  6.0560 -0.002494  0.012908 -0.006219 -0.61413   \n",
       "8037  7.7484 -0.42033  6.0565  0.000369  0.047946  0.000934 -0.61282   \n",
       "8038  7.7336 -0.40531  6.0341  0.019278  0.029950  0.006507 -0.61315   \n",
       "8039  7.7333 -0.45742  6.0640  0.001195  0.024513 -0.011766 -0.61262   \n",
       "\n",
       "          7        8       9     ...     1115    1116     1117    1118  \\\n",
       "0    -0.069654  0.15730  8.1305  ...  0.13478  7.9812  1.09450  5.6005   \n",
       "1    -0.071635  0.13429  7.9516  ...  0.12762  7.8991  1.13890  5.7204   \n",
       "2    -0.069460  0.12447  7.9065  ...  0.13108  7.9588  1.12390  5.6168   \n",
       "3    -0.070358  0.13194  7.9665  ...  0.12063  7.8090  1.20470  6.0569   \n",
       "4    -0.073174  0.12086  7.8696  ...  0.14448  8.0486  1.13830  5.4544   \n",
       "...        ...      ...     ...  ...      ...     ...      ...     ...   \n",
       "8035 -0.423010 -0.13669  7.7334  ... -0.13609  7.7513 -0.40677  5.9935   \n",
       "8036 -0.422250 -0.13627  7.7334  ... -0.14728  7.7420 -0.46758  6.0435   \n",
       "8037 -0.421020 -0.13434  7.7333  ... -0.13218  7.7223 -0.47145  6.0620   \n",
       "8038 -0.423720 -0.13042  7.7486  ... -0.13486  7.7310 -0.41831  6.0811   \n",
       "8039 -0.422650 -0.13612  7.7482  ... -0.13046  7.7208 -0.39409  5.9935   \n",
       "\n",
       "          1119      1120      1121     1122      1123     1124  \n",
       "0    -0.005819  0.016371  0.002868 -0.79209 -0.070456  0.13423  \n",
       "1     0.003239  0.021752  0.000058 -0.79384 -0.070314  0.12694  \n",
       "2     0.006900  0.028915 -0.000911 -0.79375 -0.071949  0.13380  \n",
       "3    -0.003188  0.003819 -0.016342 -0.79537 -0.072348  0.11873  \n",
       "4    -0.009570 -0.010470 -0.010857 -0.79026 -0.071108  0.14722  \n",
       "...        ...       ...       ...      ...       ...      ...  \n",
       "8035  0.034154  0.021411 -0.016038 -0.60436 -0.434600 -0.14984  \n",
       "8036  0.019033  0.019948  0.010828 -0.62519 -0.425140 -0.12629  \n",
       "8037  0.002615  0.014236  0.005159 -0.62209 -0.410730 -0.12578  \n",
       "8038 -0.010447  0.010243  0.005524 -0.63247 -0.427080 -0.13578  \n",
       "8039  0.034013  0.024786 -0.001845 -0.60779 -0.406890 -0.13536  \n",
       "\n",
       "[480 rows x 1125 columns]"
      ]
     },
     "execution_count": 19,
     "metadata": {},
     "output_type": "execute_result"
    }
   ],
   "source": [
    "a1p1 = fulldf.iloc[:60, :]\n",
    "a1p2= fulldf.iloc[1140:1200, :]\n",
    "a1p3= fulldf.iloc[2280:2340, :]\n",
    "a1p4= fulldf.iloc[3420:3480, :]\n",
    "a1p5= fulldf.iloc[4560:4620:, :]\n",
    "a1p6= fulldf.iloc[5700:5760, :]\n",
    "a1p7= fulldf.iloc[6840:6900, :]\n",
    "a1p8= fulldf.iloc[7980:8040, :]\n",
    "\n",
    "a1 = pd.concat([a1p1, a1p2, a1p3, a1p4, a1p5, a1p6, a1p7, a1p8])\n",
    "a1"
   ]
  },
  {
   "cell_type": "markdown",
   "metadata": {},
   "source": [
    "now we scale the values using MinMaxScaler or the one you consider ideal for the problem and then use the new array with KMeans:"
   ]
  },
  {
   "cell_type": "code",
   "execution_count": 20,
   "metadata": {},
   "outputs": [
    {
     "data": {
      "text/plain": [
       "array([[0.43675305, 0.84914144, 0.82419432, ..., 0.34079812, 0.60484966,\n",
       "        0.85387284],\n",
       "       [0.38517424, 0.88424623, 0.8500862 , ..., 0.33905789, 0.60505784,\n",
       "        0.84696315],\n",
       "       [0.36164926, 0.87651529, 0.85238158, ..., 0.33914738, 0.60266086,\n",
       "        0.85346527],\n",
       "       ...,\n",
       "       [0.3165807 , 0.46647821, 0.88895463, ..., 0.50984974, 0.10599463,\n",
       "        0.60742721],\n",
       "       [0.31192603, 0.47042783, 0.88666946, ..., 0.49952765, 0.08202489,\n",
       "        0.59794889],\n",
       "       [0.31183168, 0.45672513, 0.88971976, ..., 0.52406997, 0.11162422,\n",
       "        0.59834698]])"
      ]
     },
     "execution_count": 20,
     "metadata": {},
     "output_type": "execute_result"
    }
   ],
   "source": [
    "scaler = MinMaxScaler()\n",
    "scaled_a1 = scaler.fit_transform(a1)\n",
    "scaled_a1"
   ]
  },
  {
   "cell_type": "markdown",
   "metadata": {},
   "source": [
    "Once again the elbow method will give us a better idea of the number of groups identified:"
   ]
  },
  {
   "cell_type": "code",
   "execution_count": 21,
   "metadata": {},
   "outputs": [],
   "source": [
    "inertia = []\n",
    "labels = []\n",
    "for k in range(1,20):\n",
    "    kmeans = KMeans(n_clusters = k)\n",
    "    kmeans.fit(scaled_a1)\n",
    "    inertia.append(kmeans.inertia_)\n",
    "    labels.append(kmeans.labels_)    "
   ]
  },
  {
   "cell_type": "code",
   "execution_count": 22,
   "metadata": {},
   "outputs": [
    {
     "data": {
      "image/png": "[encoded data removed]",
      "text/plain": [
       "<Figure size 1080x468 with 1 Axes>"
      ]
     },
     "metadata": {},
     "output_type": "display_data"
    }
   ],
   "source": [
    "fig, ax = plt.subplots(figsize = (15, 6.5))\n",
    "ax.set_title(\"First activity's elbow method\")\n",
    "sns.lineplot(range(1,20), inertia)\n",
    "plt.show()"
   ]
  },
  {
   "cell_type": "markdown",
   "metadata": {},
   "source": [
    "The KMeans correctly identified 8 different clusters, let's apply and see how it behaves:"
   ]
  },
  {
   "cell_type": "code",
   "execution_count": 23,
   "metadata": {},
   "outputs": [
    {
     "data": {
      "text/plain": [
       "Counter({0: 60, 6: 60, 3: 60, 1: 60, 2: 60, 4: 60, 7: 60, 5: 60})"
      ]
     },
     "execution_count": 23,
     "metadata": {},
     "output_type": "execute_result"
    }
   ],
   "source": [
    "model = KMeans(n_clusters = 8)\n",
    "model.fit(scaled_a1)\n",
    "labels = model.labels_\n",
    "Counter(labels)"
   ]
  },
  {
   "cell_type": "markdown",
   "metadata": {},
   "source": [
    "The algorithm worked perfectly, recognizing 8 people doing the same activity for the same period of time. \n",
    "___"
   ]
  },
  {
   "cell_type": "code",
   "execution_count": null,
   "metadata": {},
   "outputs": [],
   "source": []
  }
 ],
 "metadata": {
  "kernelspec": {
   "display_name": "Python 3",
   "language": "python",
   "name": "python3"
  },
  "language_info": {
   "codemirror_mode": {
    "name": "ipython",
    "version": 3
   },
   "file_extension": ".py",
   "mimetype": "text/x-python",
   "name": "python",
   "nbconvert_exporter": "python",
   "pygments_lexer": "ipython3",
   "version": "3.8.0"
  }
 },
 "nbformat": 4,
 "nbformat_minor": 4
}
